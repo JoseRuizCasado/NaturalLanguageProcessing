{
 "cells": [
  {
   "cell_type": "markdown",
   "id": "1e77fbe3",
   "metadata": {},
   "source": [
    "# Natural Language Processing\n",
    "\n",
    "In this notebook I will develop a NLP model to analyze IMDB dataset. I will use the raw dataset, so it is needed to make word embedding.\n",
    "\n",
    "The individual training reviews will be collected into a list of strings, one string per review. Thre review labels will be also collected in a list"
   ]
  },
  {
   "cell_type": "code",
   "execution_count": 1,
   "id": "ff0a2cb7",
   "metadata": {},
   "outputs": [],
   "source": [
    "import os\n",
    "\n",
    "imdb_dir = './aclImdb'\n",
    "train_dir = os.path.join(imdb_dir, 'train')\n",
    "\n",
    "labels = []\n",
    "texts = []\n",
    "\n",
    "for label_type in ['neg', 'pos']:\n",
    "    dir_name = os.path.join(train_dir, label_type)\n",
    "    for fname in os.listdir(dir_name):\n",
    "        if fname[-4:] == '.txt':\n",
    "            f = open(os.path.join(dir_name, fname), encoding=\"utf8\")\n",
    "            texts.append(f.read())\n",
    "            f.close()\n",
    "            if label_type == 'neg':\n",
    "                labels.append(0)\n",
    "            else:\n",
    "                labels.append(1)"
   ]
  },
  {
   "cell_type": "markdown",
   "id": "848d8d6d",
   "metadata": {},
   "source": [
    "I will use a pretrained word embedding, so I restrict the training data to the first 200 samples."
   ]
  },
  {
   "cell_type": "code",
   "execution_count": 3,
   "id": "6a80db3f",
   "metadata": {},
   "outputs": [
    {
     "name": "stdout",
     "output_type": "stream",
     "text": [
      "The total of unique tokens are 88582\n",
      "Shape of tensor data: (25000, 100)\n",
      "Shape of label tensor: (25000,)\n"
     ]
    }
   ],
   "source": [
    "from tensorflow.keras.preprocessing.text import Tokenizer\n",
    "from tensorflow.keras.preprocessing.sequence import pad_sequences\n",
    "import numpy as np\n",
    "\n",
    "# Cuts off reviews after 100 words\n",
    "max_len = 100\n",
    "# Trains on 200 samples\n",
    "training_samples = 200\n",
    "# Validates on 10,000\n",
    "validation_samples = 10000\n",
    "# Considers only the top 10,000 words in the dataset\n",
    "max_words = 10000\n",
    "\n",
    "tokenizer = Tokenizer(num_words=max_words)\n",
    "tokenizer.fit_on_texts(texts)\n",
    "sequences = tokenizer.texts_to_sequences(texts)\n",
    "\n",
    "word_index = tokenizer.word_index\n",
    "print(f'The total of unique tokens are {len(word_index)}')\n",
    "\n",
    "data = pad_sequences(sequences, maxlen=max_len)\n",
    "\n",
    "labels = np.asarray(labels)\n",
    "print(f'Shape of tensor data: {data.shape}')\n",
    "print(f'Shape of label tensor: {labels.shape}')\n",
    "\n",
    "# Split the data into a training set and a\n",
    "# validation set, but first shuffles the data,\n",
    "# because u r starting with data in wich\n",
    "# samples are ordered (all negativ first, then\n",
    "# all positive)\n",
    "indices = np.arange(data.shape[0])\n",
    "np.random.shuffle(indices)\n",
    "data = data[indices]\n",
    "labels = labels[indices]\n",
    "\n",
    "x_train = data[:training_samples]\n",
    "y_train = labels[:training_samples]\n",
    "x_val = data[training_samples: training_samples + validation_samples]\n",
    "y_val = labels[training_samples: training_samples + validation_samples]"
   ]
  },
  {
   "cell_type": "markdown",
   "id": "8abdb22b",
   "metadata": {},
   "source": [
    "I download the Glove word embeddings from *[Stanford web page](http://downloads.cs.stanford.edu/nlp/data/glove.6B.zip)*. The unzipped file need to be parsed to build an index that maps words to their vector representation"
   ]
  },
  {
   "cell_type": "code",
   "execution_count": null,
   "id": "0b836d18",
   "metadata": {},
   "outputs": [],
   "source": [
    "glove_dir = './glove.6B'\n",
    "\n",
    "embeddings_index = {}\n",
    "f = open(os.path.join(glove_dir, 'glove.6B.100d.txt'), encoding='utf-8')\n",
    "for line in f:\n",
    "    values = line.split()\n",
    "    word = values[0]\n",
    "    coefs = np.asarray(values[1:], dtype='float32')\n",
    "    embeddings_index[word] = coefs\n",
    "    \n",
    "f.close()\n",
    "print(f'{len(embeddings_index)} words vectors were found.')"
   ]
  },
  {
   "cell_type": "markdown",
   "id": "ca54cd63",
   "metadata": {},
   "source": [
    "Next I build embeddin matrix that can be loaded into a $Embeding$ layer. It must be a matrix must be a matrix of shape $(max_words, embedding_dim)$ where each entry $i$ contains the $embedding_dim$-dimensional vector for the word of index $i$ in the reference word intex (built during tokenization). Note that index 0 isn't supposed to stand for any word or toker, it's a placeholder."
   ]
  },
  {
   "cell_type": "code",
   "execution_count": 14,
   "id": "f797be18",
   "metadata": {},
   "outputs": [],
   "source": [
    "embedding_dim = 100\n",
    "\n",
    "embedding_matrix = np.zeros((max_words, embedding_dim))\n",
    "for word, i in word_index.items():\n",
    "    # Avoid out of bounds IndexError\n",
    "    if i >= max_words:\n",
    "        break\n",
    "    embedding_vector = embeddings_index.get(word)\n",
    "    if embedding_vector is not None:\n",
    "        # Words not found in the embedding index will be all zeros\n",
    "        embedding_matrix[i] = embedding_vector"
   ]
  },
  {
   "cell_type": "markdown",
   "id": "bef383bb",
   "metadata": {},
   "source": [
    "Now I build the model"
   ]
  },
  {
   "cell_type": "code",
   "execution_count": 17,
   "id": "d0dd2a9d",
   "metadata": {},
   "outputs": [
    {
     "name": "stdout",
     "output_type": "stream",
     "text": [
      "Model: \"sequential_2\"\n",
      "_________________________________________________________________\n",
      "Layer (type)                 Output Shape              Param #   \n",
      "=================================================================\n",
      "embedding_1 (Embedding)      (None, 100, 100)          1000000   \n",
      "_________________________________________________________________\n",
      "flatten_1 (Flatten)          (None, 10000)             0         \n",
      "_________________________________________________________________\n",
      "dense_2 (Dense)              (None, 32)                320032    \n",
      "_________________________________________________________________\n",
      "dense_3 (Dense)              (None, 1)                 33        \n",
      "=================================================================\n",
      "Total params: 1,320,065\n",
      "Trainable params: 1,320,065\n",
      "Non-trainable params: 0\n",
      "_________________________________________________________________\n"
     ]
    }
   ],
   "source": [
    "from tensorflow.keras.models import Sequential\n",
    "from tensorflow.keras.layers import Embedding, Flatten, Dense\n",
    "\n",
    "model = Sequential()\n",
    "model.add(Embedding(max_words, embedding_dim, input_length=max_len))\n",
    "model.add(Flatten())\n",
    "model.add(Dense(32, activation='relu'))\n",
    "model.add(Dense(1, activation='sigmoid'))\n",
    "model.summary()"
   ]
  },
  {
   "cell_type": "markdown",
   "id": "c41451c0",
   "metadata": {},
   "source": [
    "### Loading the GloVe embeddings in the model\n",
    "\n",
    "The Embedding layer has a single weight matrix: a 2D float matrix where each entry i is the word vector meant to be associated with index i. The GloVe matrix will  be laoded in the firs layer of the model."
   ]
  },
  {
   "cell_type": "code",
   "execution_count": 18,
   "id": "c969410d",
   "metadata": {},
   "outputs": [],
   "source": [
    "model.layers[0].set_weights([embedding_matrix])\n",
    "model.layers[0].trainable = False "
   ]
  },
  {
   "cell_type": "markdown",
   "id": "75c565b1",
   "metadata": {},
   "source": [
    "Setting the layer trainable attribute to False the Embedding layer will be freeze. The large gradient updates during trainning, to avoid the randomly initialized layers would be disruptive to the already-learning features.\n",
    "\n",
    "### Training and Evaluating the Model"
   ]
  },
  {
   "cell_type": "code",
   "execution_count": 20,
   "id": "6c0eefc6",
   "metadata": {},
   "outputs": [
    {
     "name": "stdout",
     "output_type": "stream",
     "text": [
      "Epoch 1/10\n",
      "7/7 [==============================] - 1s 148ms/step - loss: 0.3513 - acc: 0.7575 - val_loss: 0.7950 - val_acc: 0.5741\n",
      "Epoch 2/10\n",
      "7/7 [==============================] - 1s 126ms/step - loss: 0.0168 - acc: 1.0000 - val_loss: 0.8194 - val_acc: 0.5734\n",
      "Epoch 3/10\n",
      "7/7 [==============================] - 1s 124ms/step - loss: 0.0135 - acc: 1.0000 - val_loss: 0.8260 - val_acc: 0.5761\n",
      "Epoch 4/10\n",
      "7/7 [==============================] - 1s 124ms/step - loss: 0.0099 - acc: 1.0000 - val_loss: 0.9207 - val_acc: 0.5659\n",
      "Epoch 5/10\n",
      "7/7 [==============================] - 1s 125ms/step - loss: 0.0073 - acc: 1.0000 - val_loss: 0.8729 - val_acc: 0.5748\n",
      "Epoch 6/10\n",
      "7/7 [==============================] - 1s 122ms/step - loss: 0.0053 - acc: 1.0000 - val_loss: 0.8741 - val_acc: 0.5753\n",
      "Epoch 7/10\n",
      "7/7 [==============================] - 1s 130ms/step - loss: 0.0041 - acc: 1.0000 - val_loss: 0.8882 - val_acc: 0.5754\n",
      "Epoch 8/10\n",
      "7/7 [==============================] - 1s 126ms/step - loss: 0.0029 - acc: 1.0000 - val_loss: 1.2329 - val_acc: 0.5386\n",
      "Epoch 9/10\n",
      "7/7 [==============================] - 1s 124ms/step - loss: 0.0038 - acc: 1.0000 - val_loss: 0.9743 - val_acc: 0.5687\n",
      "Epoch 10/10\n",
      "7/7 [==============================] - 1s 123ms/step - loss: 0.0017 - acc: 1.0000 - val_loss: 0.9562 - val_acc: 0.5718\n"
     ]
    }
   ],
   "source": [
    "model.compile(\n",
    "    optimizer='rmsprop',\n",
    "    loss='binary_crossentropy',\n",
    "    metrics=['acc']\n",
    ")\n",
    "history = model.fit(\n",
    "    x_train, y_train,\n",
    "    epochs=10,\n",
    "    batch_size=32,\n",
    "    validation_data=(x_val, y_val)\n",
    ")\n",
    "model.save_weights('pre_trained_glove_model.h5')"
   ]
  },
  {
   "cell_type": "code",
   "execution_count": 27,
   "id": "5ae8fadd",
   "metadata": {},
   "outputs": [
    {
     "data": {
      "image/png": "[encoded data removed]",
      "text/plain": [
       "<Figure size 1440x360 with 2 Axes>"
      ]
     },
     "metadata": {
      "needs_background": "light"
     },
     "output_type": "display_data"
    }
   ],
   "source": [
    "import matplotlib.pyplot as plt\n",
    "\n",
    "acc = history.history['acc']\n",
    "val_acc = history.history['val_acc']\n",
    "loss = history.history['loss']\n",
    "val_loss = history.history['val_loss']\n",
    "\n",
    "epochs = range(1, len(acc) + 1)\n",
    "\n",
    "fig, axs = plt.subplots(1, 2, figsize=(20,5))\n",
    "\n",
    "axs[0].plot(epochs, acc, 'bo', label='Training acc')\n",
    "axs[0].plot(epochs, val_acc, 'r', label='Validation acc')\n",
    "axs[0].set_title('Training and validation acc')\n",
    "axs[0].legend()\n",
    "\n",
    "axs[1].plot(epochs, loss, 'bo', label='Training loss')\n",
    "axs[1].plot(epochs, val_loss, 'r', label='Validation loss')\n",
    "axs[1].set_title('Training and validation loss')\n",
    "axs[1].legend()\n",
    "\n",
    "plt.show()"
   ]
  },
  {
   "cell_type": "markdown",
   "id": "aa0c056d",
   "metadata": {},
   "source": [
    "The model quickly starts overfitting, which is unsurprising given the small number of training samples. Validation accuracy has high variance for the same reason, but it seems to reach the high 50s. \n",
    "\n",
    "Now I will train the same model wiothout loading the pretained word embeddings and without freezing the embedding layer. in that case, the model learn a task-specific embedding of the input token, which is ghenerally more powerfull than pretrained word embedding."
   ]
  },
  {
   "cell_type": "code",
   "execution_count": 28,
   "id": "5b995dd4",
   "metadata": {},
   "outputs": [
    {
     "name": "stdout",
     "output_type": "stream",
     "text": [
      "Model: \"sequential_3\"\n",
      "_________________________________________________________________\n",
      "Layer (type)                 Output Shape              Param #   \n",
      "=================================================================\n",
      "embedding_2 (Embedding)      (None, 100, 100)          1000000   \n",
      "_________________________________________________________________\n",
      "flatten_2 (Flatten)          (None, 10000)             0         \n",
      "_________________________________________________________________\n",
      "dense_4 (Dense)              (None, 32)                320032    \n",
      "_________________________________________________________________\n",
      "dense_5 (Dense)              (None, 1)                 33        \n",
      "=================================================================\n",
      "Total params: 1,320,065\n",
      "Trainable params: 1,320,065\n",
      "Non-trainable params: 0\n",
      "_________________________________________________________________\n",
      "Epoch 1/10\n",
      "7/7 [==============================] - 1s 158ms/step - loss: 0.6932 - acc: 0.5197 - val_loss: 0.6913 - val_acc: 0.5256\n",
      "Epoch 2/10\n",
      "7/7 [==============================] - 1s 131ms/step - loss: 0.5004 - acc: 0.9767 - val_loss: 0.6947 - val_acc: 0.5288\n",
      "Epoch 3/10\n",
      "7/7 [==============================] - 1s 136ms/step - loss: 0.2727 - acc: 0.9823 - val_loss: 0.7103 - val_acc: 0.5264\n",
      "Epoch 4/10\n",
      "7/7 [==============================] - 1s 132ms/step - loss: 0.1147 - acc: 1.0000 - val_loss: 0.7093 - val_acc: 0.5353\n",
      "Epoch 5/10\n",
      "7/7 [==============================] - 1s 130ms/step - loss: 0.0553 - acc: 1.0000 - val_loss: 0.7326 - val_acc: 0.5389\n",
      "Epoch 6/10\n",
      "7/7 [==============================] - 1s 132ms/step - loss: 0.0278 - acc: 1.0000 - val_loss: 0.7275 - val_acc: 0.5405\n",
      "Epoch 7/10\n",
      "7/7 [==============================] - 1s 136ms/step - loss: 0.0156 - acc: 1.0000 - val_loss: 0.7360 - val_acc: 0.5401\n",
      "Epoch 8/10\n",
      "7/7 [==============================] - 1s 137ms/step - loss: 0.0090 - acc: 1.0000 - val_loss: 0.7366 - val_acc: 0.5399\n",
      "Epoch 9/10\n",
      "7/7 [==============================] - 1s 149ms/step - loss: 0.0055 - acc: 1.0000 - val_loss: 0.7480 - val_acc: 0.5421\n",
      "Epoch 10/10\n",
      "7/7 [==============================] - 1s 140ms/step - loss: 0.0033 - acc: 1.0000 - val_loss: 0.7569 - val_acc: 0.5423\n"
     ]
    }
   ],
   "source": [
    "from tensorflow.keras.models import Sequential\n",
    "from tensorflow.keras.layers import Embedding, Flatten, Dense\n",
    "\n",
    "model = Sequential()\n",
    "model.add(Embedding(max_words, embedding_dim, input_length=max_len))\n",
    "model.add(Flatten())\n",
    "model.add(Dense(32, activation='relu'))\n",
    "model.add(Dense(1, activation='sigmoid'))\n",
    "model.summary()\n",
    "\n",
    "model.compile(\n",
    "    optimizer='rmsprop',\n",
    "    loss='binary_crossentropy',\n",
    "    metrics=['acc']\n",
    ")\n",
    "history = model.fit(\n",
    "    x_train, y_train,\n",
    "    epochs=10,\n",
    "    batch_size=32,\n",
    "    validation_data=(x_val, y_val)\n",
    ")\n",
    "model.save_weights('model.h5')"
   ]
  },
  {
   "cell_type": "code",
   "execution_count": 29,
   "id": "9d0e26c3",
   "metadata": {},
   "outputs": [
    {
     "data": {
      "image/png": "[encoded data removed]",
      "text/plain": [
       "<Figure size 1440x360 with 2 Axes>"
      ]
     },
     "metadata": {
      "needs_background": "light"
     },
     "output_type": "display_data"
    }
   ],
   "source": [
    "acc = history.history['acc']\n",
    "val_acc = history.history['val_acc']\n",
    "loss = history.history['loss']\n",
    "val_loss = history.history['val_loss']\n",
    "\n",
    "epochs = range(1, len(acc) + 1)\n",
    "\n",
    "fig, axs = plt.subplots(1, 2, figsize=(20,5))\n",
    "\n",
    "axs[0].plot(epochs, acc, 'bo', label='Training acc')\n",
    "axs[0].plot(epochs, val_acc, 'r', label='Validation acc')\n",
    "axs[0].set_title('Training and validation acc')\n",
    "axs[0].legend()\n",
    "\n",
    "axs[1].plot(epochs, loss, 'bo', label='Training loss')\n",
    "axs[1].plot(epochs, val_loss, 'r', label='Validation loss')\n",
    "axs[1].set_title('Training and validation loss')\n",
    "axs[1].legend()\n",
    "\n",
    "plt.show()"
   ]
  },
  {
   "cell_type": "markdown",
   "id": "88d4a61c",
   "metadata": {},
   "source": [
    "Validation accuracy stalls in the low 50s. So in this case, pretrained word embeddings outperform jointly learned embeddings. If the number of training samples increase, this will quickly stop being the case.\n",
    "\n",
    "Finaly, let's evaluate the model on the test data. Fits, the test data is tokenize."
   ]
  },
  {
   "cell_type": "code",
   "execution_count": null,
   "id": "af2c3970",
   "metadata": {},
   "outputs": [],
   "source": [
    "test_dir = os.path.join(imdb_dir, 'test')\n",
    "\n",
    "labels = []\n",
    "texts = []\n",
    "\n",
    "for label_type in ['neg', 'pos']:\n",
    "    dir_name = os.path.join(train_dir, label_type)\n",
    "    for fname in os.listdir(dir_name):\n",
    "        if fname[-4:] == '.txt':\n",
    "            f = open(os.path.join(dir_name, fname), encoding=\"utf8\")\n",
    "            texts.append(f.read())\n",
    "            f.close()\n",
    "            if label_type == 'neg':\n",
    "                labels.append(0)\n",
    "            else:\n",
    "                labels.append(1)\n",
    "                           \n",
    "sequences = tokenizer.texts_to_sequences(texts)\n",
    "x_test = pad_sequences(sequences, maxlen=max_len)\n",
    "y_test = np.asarray(labels)\n",
    "\n",
    "model.load_weights('pre_trained_glove_model.h5')\n",
    "model.evaluate(x_test, y_test)"
   ]
  },
  {
   "cell_type": "markdown",
   "id": "40c318a0",
   "metadata": {},
   "source": [
    "## Recurrent Neuronal Network\n",
    "\n",
    "A recurrent neural network (RNN) processes sequences by iterating through the sequence elements and manintaining a state containing information relative to what it has seen so far.\n",
    "\n",
    "Now I will buil a RNN with Keras and compare the results, on IMDB dataset, with other solutions."
   ]
  },
  {
   "cell_type": "code",
   "execution_count": 3,
   "id": "78d2891c",
   "metadata": {},
   "outputs": [
    {
     "name": "stdout",
     "output_type": "stream",
     "text": [
      "Loading data...\n"
     ]
    },
    {
     "name": "stderr",
     "output_type": "stream",
     "text": [
      "<__array_function__ internals>:5: VisibleDeprecationWarning: Creating an ndarray from ragged nested sequences (which is a list-or-tuple of lists-or-tuples-or ndarrays with different lengths or shapes) is deprecated. If you meant to do this, you must specify 'dtype=object' when creating the ndarray\n",
      "C:\\Users\\ala_j\\.conda\\envs\\deep_learning\\lib\\site-packages\\tensorflow\\python\\keras\\datasets\\imdb.py:159: VisibleDeprecationWarning: Creating an ndarray from ragged nested sequences (which is a list-or-tuple of lists-or-tuples-or ndarrays with different lengths or shapes) is deprecated. If you meant to do this, you must specify 'dtype=object' when creating the ndarray\n",
      "  x_train, y_train = np.array(xs[:idx]), np.array(labels[:idx])\n",
      "C:\\Users\\ala_j\\.conda\\envs\\deep_learning\\lib\\site-packages\\tensorflow\\python\\keras\\datasets\\imdb.py:160: VisibleDeprecationWarning: Creating an ndarray from ragged nested sequences (which is a list-or-tuple of lists-or-tuples-or ndarrays with different lengths or shapes) is deprecated. If you meant to do this, you must specify 'dtype=object' when creating the ndarray\n",
      "  x_test, y_test = np.array(xs[idx:]), np.array(labels[idx:])\n"
     ]
    },
    {
     "name": "stdout",
     "output_type": "stream",
     "text": [
      "25000 train sequences\n",
      "25000 test sequences\n",
      "Pad sequences (samples x time)\n",
      "input_train shape: (25000, 500)\n",
      "input_test shape: (25000, 500)\n"
     ]
    }
   ],
   "source": [
    "from tensorflow.keras.datasets import imdb\n",
    "from tensorflow.keras.preprocessing import sequence\n",
    "\n",
    "# Number of words to consider as features\n",
    "max_features = 10000\n",
    "# Cuts off texts after this many words (among the max_features most common words)\n",
    "maxlen = 500\n",
    "batch_size = 32\n",
    "\n",
    "print('Loading data...')\n",
    "(input_train, y_train), (input_test, y_test) = imdb.load_data(num_words=max_features)\n",
    "print(len(input_train), 'train sequences')\n",
    "print(len(input_test), 'test sequences')\n",
    "\n",
    "print('Pad sequences (samples x time)')\n",
    "input_train = sequence.pad_sequences(input_train, maxlen=maxlen)\n",
    "input_test = sequence.pad_sequences(input_test, maxlen=maxlen)\n",
    "print('input_train shape:', input_train.shape)\n",
    "print('input_test shape:', input_test.shape)"
   ]
  },
  {
   "cell_type": "markdown",
   "id": "df215b6d",
   "metadata": {},
   "source": [
    "I will build a simple recurrent network using Embedding layer and SimpleRNN layer."
   ]
  },
  {
   "cell_type": "code",
   "execution_count": 4,
   "id": "01cd326a",
   "metadata": {},
   "outputs": [
    {
     "name": "stdout",
     "output_type": "stream",
     "text": [
      "Epoch 1/10\n",
      "157/157 [==============================] - 128s 799ms/step - loss: 0.6745 - acc: 0.5605 - val_loss: 0.5173 - val_acc: 0.7626\n",
      "Epoch 2/10\n",
      "157/157 [==============================] - 126s 803ms/step - loss: 0.4099 - acc: 0.8280 - val_loss: 0.3678 - val_acc: 0.8460\n",
      "Epoch 3/10\n",
      "157/157 [==============================] - 125s 798ms/step - loss: 0.3056 - acc: 0.8767 - val_loss: 0.4057 - val_acc: 0.8182\n",
      "Epoch 4/10\n",
      "157/157 [==============================] - 126s 800ms/step - loss: 0.2363 - acc: 0.9093 - val_loss: 0.3335 - val_acc: 0.8640\n",
      "Epoch 5/10\n",
      "157/157 [==============================] - 125s 795ms/step - loss: 0.1760 - acc: 0.9332 - val_loss: 0.4694 - val_acc: 0.7864\n",
      "Epoch 6/10\n",
      "157/157 [==============================] - 130s 830ms/step - loss: 0.1276 - acc: 0.9590 - val_loss: 0.3907 - val_acc: 0.8644\n",
      "Epoch 7/10\n",
      "157/157 [==============================] - 126s 805ms/step - loss: 0.0841 - acc: 0.9745 - val_loss: 0.5173 - val_acc: 0.8308\n",
      "Epoch 8/10\n",
      "157/157 [==============================] - 124s 792ms/step - loss: 0.0564 - acc: 0.9811 - val_loss: 0.7242 - val_acc: 0.7250\n",
      "Epoch 9/10\n",
      "157/157 [==============================] - 123s 786ms/step - loss: 0.0393 - acc: 0.9901 - val_loss: 0.5370 - val_acc: 0.8346\n",
      "Epoch 10/10\n",
      "157/157 [==============================] - 123s 784ms/step - loss: 0.0200 - acc: 0.9953 - val_loss: 0.7281 - val_acc: 0.7692\n"
     ]
    }
   ],
   "source": [
    "from tensorflow.keras.layers import Dense, Embedding, SimpleRNN\n",
    "from tensorflow.keras.models import Sequential\n",
    "\n",
    "model = Sequential()\n",
    "model.add(Embedding(max_features, 32))\n",
    "model.add(SimpleRNN(32))\n",
    "model.add(Dense(1, activation='sigmoid'))\n",
    "\n",
    "model.compile(optimizer='rmsprop', loss='binary_crossentropy', metrics=['acc'])\n",
    "history = model.fit(input_train, y_train,\n",
    "                    epochs=10,\n",
    "                    batch_size=128,\n",
    "                    validation_split=0.2)"
   ]
  },
  {
   "cell_type": "code",
   "execution_count": 8,
   "id": "3c3e8f5f",
   "metadata": {},
   "outputs": [
    {
     "data": {
      "image/png": "[encoded data removed]",
      "text/plain": [
       "<Figure size 432x288 with 1 Axes>"
      ]
     },
     "metadata": {
      "needs_background": "light"
     },
     "output_type": "display_data"
    },
    {
     "data": {
      "image/png": "[encoded data removed]",
      "text/plain": [
       "<Figure size 432x288 with 1 Axes>"
      ]
     },
     "metadata": {
      "needs_background": "light"
     },
     "output_type": "display_data"
    }
   ],
   "source": [
    "import matplotlib.pyplot as plt\n",
    "\n",
    "acc = history.history['acc']\n",
    "val_acc = history.history['val_acc']\n",
    "loss = history.history['loss']\n",
    "val_loss = history.history['val_loss']\n",
    "\n",
    "epochs = range(1, len(acc) + 1)\n",
    "\n",
    "plt.plot(epochs, acc, 'bo', label='Training acc')\n",
    "plt.plot(epochs, val_acc, 'r', label='Validation acc')\n",
    "plt.title('Training and validation accuracy')\n",
    "plt.legend()\n",
    "\n",
    "plt.figure()\n",
    "\n",
    "plt.plot(epochs, loss, 'bo', label='Training loss')\n",
    "plt.plot(epochs, val_loss, 'r', label='Validation loss')\n",
    "plt.title('Training and validation accuracy')\n",
    "plt.legend()\n",
    "\n",
    "plt.show()"
   ]
  },
  {
   "cell_type": "markdown",
   "id": "7706cde7",
   "metadata": {},
   "source": [
    "The accuracy in validation is higher than the obtained in the naive approach, but isn't much good. Part of the problem is that the inputs only consider the first 500 words, rather than the full sequences, hence, RNN has access to less information than earlier baseline model. The remainder of the problem is that SimpleRNN layer isn't good at processing long sequences, such as text."
   ]
  }
 ],
 "metadata": {
  "kernelspec": {
   "display_name": "deep_learning",
   "language": "python",
   "name": "deep_learning"
  },
  "language_info": {
   "codemirror_mode": {
    "name": "ipython",
    "version": 3
   },
   "file_extension": ".py",
   "mimetype": "text/x-python",
   "name": "python",
   "nbconvert_exporter": "python",
   "pygments_lexer": "ipython3",
   "version": "3.8.0"
  }
 },
 "nbformat": 4,
 "nbformat_minor": 5
}
